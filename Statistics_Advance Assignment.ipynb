{
 "cells": [
  {
   "cell_type": "code",
   "execution_count": 3,
   "id": "dbf1f843-6df8-45ea-8ab5-4a461eaaf520",
   "metadata": {},
   "outputs": [],
   "source": [
    "import numpy as np\n",
    "import matplotlib.pyplot as plt"
   ]
  },
  {
   "cell_type": "code",
   "execution_count": null,
   "id": "084404ac",
   "metadata": {},
   "outputs": [],
   "source": []
  },
  {
   "cell_type": "markdown",
   "id": "60317240",
   "metadata": {},
   "source": [
    "Ques 1. What is a random variable in probability theory?  \n",
    "\n",
    "A random variable is a variable that takes different values based on chance. It can be \n",
    "discrete or continuous.  \n",
    "\n",
    "Discrete means some specific value like number of heads in a coin toss,no of absent \n",
    "students in a class. \n",
    "\n",
    "Continuous means values in a range like height of students. \n",
    "Weight of students. \n",
    "\n",
    "It is used to assign numbers to random outcomes so that we can study them. "
   ]
  },
  {
   "cell_type": "code",
   "execution_count": null,
   "id": "2865c200",
   "metadata": {},
   "outputs": [],
   "source": []
  },
  {
   "cell_type": "markdown",
   "id": "67a32aa9",
   "metadata": {},
   "source": [
    "Ques 2. What are the types of random variables? \n",
    "\n",
    "Random variables are of two types: \n",
    "\n",
    "Discrete Random Variable (0,1,2,3) \n",
    "Continuous Random Variable (55.5,72.7) \n",
    "\n",
    "Discrete Random variable takes specific values like 1,2,3,etc which are countable. \n",
    "Example: Number of cars parked, present student in class etc \n",
    "\n",
    "Continuous Random Variable takes any value in a range 151.2,140.5 etc  \n",
    "It can be decimal values \n",
    "\n",
    "Example: Height of students,time taken by boat to go upstream or downstream etc "
   ]
  },
  {
   "cell_type": "code",
   "execution_count": null,
   "id": "4d9a6cb8",
   "metadata": {},
   "outputs": [],
   "source": []
  },
  {
   "cell_type": "markdown",
   "id": "a7de19d3",
   "metadata": {},
   "source": [
    "Ques 3. Explain the difference between discrete and continuous distributions.  \n",
    "\n",
    "Distribution shows us how the values of random variables are spread out. \n",
    "\n",
    "Discrete means some specific value like number of heads in a coin toss,no of absent                               \n",
    "students in a class. \n",
    "Here the graph usually looks like a bar chart. \n",
    "discrete_data = [0, 1, 2, 0, 1, 3, 2, 1, 0, 2] \n",
    "\n",
    "Continuous means values in a range like height of students. \n",
    "Weight of students. \n",
    "Here the graph usually looks like a smooth curve \n",
    "continuous_data = [150.2, 152.5, 149.8, 153.0, 151.2, 150.9, 152.0, 151.5, 150.7, 153.3] \n",
    "\n",
    "Or we can say like discrete is a countable number and continuous is  measurable values"
   ]
  },
  {
   "cell_type": "code",
   "execution_count": null,
   "id": "e44419d8",
   "metadata": {},
   "outputs": [],
   "source": []
  },
  {
   "cell_type": "markdown",
   "id": "e06826ca",
   "metadata": {},
   "source": [
    "Ques 4. What is a binomial distribution, and how is it used in probability?  \n",
    "\n",
    "A Binomial distribution is a type of discrete probability distribution. It is used to find out the         \n",
    "probability of a certain number of successes in a fixed number of trials. where each trial have only two \n",
    "possible outcome failure or success,True or False Here the number of trials are fixed and can have only two outcomes and \n",
    "the probability of success and failure is the same in each trial. \n",
    " \n",
    "Example: \n",
    "Toss a coin 5 times. What is the chance of getting exactly 3 heads? \n",
    " \n",
    "Take 10 apples from a shop. What is the chance that exactly 2 are bad? \n",
    " \n",
    "So basically we can say, binomial distribution tells us how likely a certain number of successes will \n",
    "happen in experiments with only two outcomes. "
   ]
  },
  {
   "cell_type": "code",
   "execution_count": null,
   "id": "c716a651",
   "metadata": {},
   "outputs": [],
   "source": []
  },
  {
   "cell_type": "markdown",
   "id": "22531773",
   "metadata": {},
   "source": [
    "Ques 5. What is the standard normal distribution, and why is it important?  \n",
    "\n",
    "Standard normal distribution is a special type of distribution where Mean i.e meu =0 and  SD i.e \n",
    "Standard Deviation=1. It is a perfect bell shaped curve where mean=median=mode \n",
    "\n",
    "In Standard Normal Distribution most of the values are close to mean. \n",
    " \n",
    "It is very important because it is the base of many statistical tests and probability calculations  \n",
    "Any normal distribution can be easily converted to standard normal distribution using Z-Score. \n",
    " \n",
    " It is widely used in Hypothesis testing and C.I i.e confidence Interval "
   ]
  },
  {
   "cell_type": "code",
   "execution_count": null,
   "id": "ebe18d1c",
   "metadata": {},
   "outputs": [],
   "source": []
  },
  {
   "cell_type": "markdown",
   "id": "8085a827",
   "metadata": {},
   "source": [
    "Ques 6. What is the Central Limit Theorem (CLT), and why is it critical in statistics?  \n",
    "\n",
    "CLT says as we increases the sample size our sample mean will become approximately normal  \n",
    "i.e Bell shaped and the mean of sample mean will be equal to the population mean. \n",
    "The sample size should be large enough or the thumb rule is  n>=30 \n",
    " \n",
    "It is important because it allows us to use normal distribution methods even when the population data is \n",
    "not normal. It is the foundation of hypothesis testing and confidence interval "
   ]
  },
  {
   "cell_type": "code",
   "execution_count": null,
   "id": "e7b2e616",
   "metadata": {},
   "outputs": [],
   "source": []
  },
  {
   "cell_type": "markdown",
   "id": "cd8c0adf",
   "metadata": {},
   "source": [
    "Ques 7. What is the significance of confidence intervals in statistical analysis?  \n",
    "\n",
    "Confidence Interval is like we are not sure about the exact value in the population but C.I gives us a       \n",
    "range where the true value of population data is likely to be. \n",
    "    \n",
    "Example:  We want to know the avg height of all the students of a school, but it is not possible to take \n",
    "the sample of every student. So we randomly take the sample of students and find the average height. \n",
    "And definitely the avg height of these samples will not be exactly the same as population so instead of \n",
    "giving a fixed value we will give a range like avg height will be between 150 and 160cm like this .  \n",
    "\n",
    "In short we can say  a confidence interval gives us a range instead of a single number, and that range \n",
    "is likely to have the true value we are looking for."
   ]
  },
  {
   "cell_type": "code",
   "execution_count": null,
   "id": "46c74555",
   "metadata": {},
   "outputs": [],
   "source": []
  },
  {
   "cell_type": "markdown",
   "id": "928b3b69",
   "metadata": {},
   "source": [
    "Ques 8. What is the concept of expected value in a probability distribution? \n",
    "\n",
    "Expected value is just the average which we will get if we do something again and again for the long   \n",
    "term. \n",
    "Expected value is the long run average result we will get if we keep on repeating a random experiment   \n",
    "many times  \n",
    "\n",
    "It is just (value x probability) of every outcome "
   ]
  },
  {
   "cell_type": "code",
   "execution_count": null,
   "id": "5d6ccfb4",
   "metadata": {},
   "outputs": [],
   "source": []
  },
  {
   "cell_type": "code",
   "execution_count": null,
   "id": "d5c11213",
   "metadata": {},
   "outputs": [],
   "source": []
  },
  {
   "cell_type": "code",
   "execution_count": 4,
   "id": "5f79bb6f-6ebc-4ab5-863a-f776d4cb7a07",
   "metadata": {},
   "outputs": [
    {
     "name": "stdout",
     "output_type": "stream",
     "text": [
      "Mean is 49.765012838238924\n",
      "Standard Deviation is 5.163835327578983\n"
     ]
    },
    {
     "data": {
      "image/png": "[encoded data removed]",
      "text/plain": [
       "<Figure size 432x288 with 1 Axes>"
      ]
     },
     "metadata": {
      "needs_background": "light"
     },
     "output_type": "display_data"
    }
   ],
   "source": [
    "# Ques 9. Write a Python program to generate 1000 random numbers from a normal distribution with \n",
    "# mean = 50 and standard deviation = 5. Compute its mean and standard deviation using NumPy, \n",
    "# and draw a histogram to visualize the distribution.\n",
    "\n",
    "\n",
    "data=np.random.normal(50,5,1000)\n",
    "\n",
    "mean=np.mean(data)\n",
    "sd=np.std(data)\n",
    "\n",
    "print(f\"Mean is {mean}\")\n",
    "print(f\"Standard Deviation is {sd}\")\n",
    "\n",
    "\n",
    "plt.hist(data,bins=30,edgecolor='black')\n",
    "plt.title(\"Normal Distribution (mean=50, std=5)\")\n",
    "plt.xlabel(\"Value\")\n",
    "plt.ylabel(\"Frequency\")\n",
    "plt.show()"
   ]
  },
  {
   "cell_type": "code",
   "execution_count": null,
   "id": "d92fb400-d98d-4a92-9fcb-3bc8e92aeae4",
   "metadata": {},
   "outputs": [],
   "source": []
  },
  {
   "cell_type": "code",
   "execution_count": 6,
   "id": "48dec23d",
   "metadata": {},
   "outputs": [
    {
     "name": "stderr",
     "output_type": "stream",
     "text": [
      "C:\\Users\\rk909\\anaconda3\\lib\\site-packages\\scipy\\__init__.py:146: UserWarning: A NumPy version >=1.16.5 and <1.23.0 is required for this version of SciPy (detected version 1.26.4\n",
      "  warnings.warn(f\"A NumPy version >={np_minversion} and <{np_maxversion}\"\n"
     ]
    },
    {
     "name": "stdout",
     "output_type": "stream",
     "text": [
      "Mean Sales: 248.25\n",
      "95% Confidence Interval: (240.17, 256.33)\n"
     ]
    }
   ],
   "source": [
    "\"\"\" Ques 10. You are working as a data analyst for a retail company. The company has collected daily sales data for 2 years and \n",
    "         wants you to identify the overall sales trend. \n",
    "\n",
    "daily_sales = [220, 245, 210, 265, 230, 250, 260, 275, 240, 255, 235, 260, 245, 250, 225, 270, 265, 255, 250, 260] \n",
    "    \n",
    "● Explain how you would apply the Central Limit Theorem to estimate the average sales with a 95% confidence interval. \n",
    "● Write the Python code to compute the mean sales and its confidence interval.  \n",
    "\"\"\"\n",
    "\n",
    "# CLT says as we increases the sample size our sample mean will become approximately normal  \n",
    "# i.e Bell shaped and the mean of sample mean will be equal to the population mean. \n",
    "# The sample size should be large enough or the thumb rule is  n>=30 \n",
    "\n",
    "# even with the smallest data set we can estimate mean using T distribution \n",
    "\n",
    "# Z distribution is used when the population standard deviation is known \n",
    "# T is used when the population standard deviation is unknown.\n",
    "\n",
    "\n",
    "# Steps\n",
    "\n",
    "# Compute the sample standard mean and sample standard deviation\n",
    "# compute the standard error\n",
    "# find the confidence Interval value  using df=n-1(because we are working with sample data)\n",
    "# compute the margin of error \n",
    "# the CI is sample mean + - margin of error\n",
    "\n",
    "\n",
    "from scipy import stats\n",
    "\n",
    "daily_sales = [220, 245, 210, 265, 230, 250, 260, 275, 240, 255,\n",
    "    235, 260, 245, 250, 225, 270, 265, 255, 250, 260]\n",
    "\n",
    "# Sample statistics\n",
    "mean_sales = np.mean(daily_sales)\n",
    "std_sales = np.std(daily_sales, ddof=1)  # sample standard deviation\n",
    "n = len(daily_sales)\n",
    "\n",
    "# Standard Error\n",
    "SE = std_sales / np.sqrt(n)\n",
    "\n",
    "# t-critical value for 95% confidence\n",
    "t_critical = stats.t.ppf(0.975, df=n-1)\n",
    "\n",
    "# Margin of error\n",
    "ME = t_critical * SE\n",
    "\n",
    "# Confidence Interval\n",
    "lower_bound = mean_sales - ME\n",
    "upper_bound = mean_sales + ME\n",
    "\n",
    "print(f\"Mean Sales: {mean_sales:.2f}\")\n",
    "print(f\"95% Confidence Interval: ({lower_bound:.2f}, {upper_bound:.2f})\")\n",
    "\n"
   ]
  },
  {
   "cell_type": "code",
   "execution_count": null,
   "id": "32f48dac-86f3-4cf5-91b5-6bce2a2f07ff",
   "metadata": {},
   "outputs": [],
   "source": []
  },
  {
   "cell_type": "code",
   "execution_count": null,
   "id": "e2356aaf-e2ae-4050-b61b-6de1c7637ed3",
   "metadata": {},
   "outputs": [],
   "source": []
  },
  {
   "cell_type": "code",
   "execution_count": null,
   "id": "85872c8c",
   "metadata": {},
   "outputs": [],
   "source": []
  }
 ],
 "metadata": {
  "kernelspec": {
   "display_name": "Python 3 (ipykernel)",
   "language": "python",
   "name": "python3"
  },
  "language_info": {
   "codemirror_mode": {
    "name": "ipython",
    "version": 3
   },
   "file_extension": ".py",
   "mimetype": "text/x-python",
   "name": "python",
   "nbconvert_exporter": "python",
   "pygments_lexer": "ipython3",
   "version": "3.9.12"
  }
 },
 "nbformat": 4,
 "nbformat_minor": 5
}
